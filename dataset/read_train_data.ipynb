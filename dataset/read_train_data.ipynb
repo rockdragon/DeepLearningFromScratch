{
 "cells": [
  {
   "cell_type": "code",
   "execution_count": 2,
   "id": "5e33d73c-086c-4d4f-9276-9db3acca1258",
   "metadata": {},
   "outputs": [
    {
     "name": "stdout",
     "output_type": "stream",
     "text": [
      "labels_magic is 2049 \n",
      " labels_num is 60000 \n",
      " labels is [5 0 4 ... 5 6 8] \n",
      "\n",
      "images_magic is 2051 \n",
      " images_num is 60000 \n",
      " rows is 28 \n",
      " cols is 28 \n",
      " images is [[0 0 0 ... 0 0 0]\n",
      " [0 0 0 ... 0 0 0]\n",
      " [0 0 0 ... 0 0 0]\n",
      " ...\n",
      " [0 0 0 ... 0 0 0]\n",
      " [0 0 0 ... 0 0 0]\n",
      " [0 0 0 ... 0 0 0]] \n",
      "\n"
     ]
    },
    {
     "data": {
      "image/png": "[encoded data removed]",
      "text/plain": [
       "<Figure size 640x480 with 1 Axes>"
      ]
     },
     "metadata": {},
     "output_type": "display_data"
    }
   ],
   "source": [
    "import os\n",
    "import struct\n",
    "import numpy as np\n",
    "\n",
    "# 读取标签数据集\n",
    "with open('/tf/mnist/data_set/train-labels-idx1-ubyte', 'rb') as lbpath:\n",
    "    labels_magic, labels_num = struct.unpack('>II', lbpath.read(8))\n",
    "    labels = np.fromfile(lbpath, dtype=np.uint8)\n",
    " \n",
    "# 读取图片数据集\n",
    "with open('/tf/mnist/data_set/train-images-idx3-ubyte', 'rb') as imgpath:\n",
    "    images_magic, images_num, rows, cols = struct.unpack('>IIII', imgpath.read(16))\n",
    "    images = np.fromfile(imgpath, dtype=np.uint8).reshape(images_num, rows * cols) \n",
    " \n",
    "# 打印数据信息\n",
    "print('labels_magic is {} \\n'.format(labels_magic),\n",
    "      'labels_num is {} \\n'.format(labels_num),\n",
    "      'labels is {} \\n'.format(labels))\n",
    " \n",
    "print('images_magic is {} \\n'.format(images_magic),\n",
    "      'images_num is {} \\n'.format(images_num),\n",
    "      'rows is {} \\n'.format(rows),\n",
    "      'cols is {} \\n'.format(cols),\n",
    "      'images is {} \\n'.format(images))\n",
    " \n",
    " \n",
    "# 测试取出一张图片和对应标签\n",
    "import matplotlib.pyplot as plt\n",
    " \n",
    "choose_num = 3 # 指定一个编号，你可以修改这里\n",
    "label = labels[choose_num]\n",
    "image = images[choose_num].reshape(28,28)\n",
    " \n",
    "plt.imshow(image)\n",
    "plt.title('the label is : {}'.format(label))\n",
    "plt.show()"
   ]
  },
  {
   "cell_type": "code",
   "execution_count": null,
   "id": "2bfbff70-c834-418d-99ab-ea880fd029c9",
   "metadata": {},
   "outputs": [],
   "source": []
  }
 ],
 "metadata": {
  "kernelspec": {
   "display_name": "Python 3 (ipykernel)",
   "language": "python",
   "name": "python3"
  },
  "language_info": {
   "codemirror_mode": {
    "name": "ipython",
    "version": 3
   },
   "file_extension": ".py",
   "mimetype": "text/x-python",
   "name": "python",
   "nbconvert_exporter": "python",
   "pygments_lexer": "ipython3",
   "version": "3.11.11"
  }
 },
 "nbformat": 4,
 "nbformat_minor": 5
}
